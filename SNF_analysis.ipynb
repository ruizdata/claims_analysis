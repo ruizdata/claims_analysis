{
 "cells": [
  {
   "cell_type": "markdown",
   "id": "57a3f50c",
   "metadata": {},
   "source": [
    "# Set Up / Data Cleaning"
   ]
  },
  {
   "cell_type": "code",
   "execution_count": 1,
   "id": "047fe158",
   "metadata": {},
   "outputs": [
    {
     "name": "stdout",
     "output_type": "stream",
     "text": [
      "            ClaimID CLM_FROM_DT CLM_THRU_DT  CLM_TYPE_CD Claim_Category  \\\n",
      "0  1035683100683680  2023-01-06  2023-01-10           60         Part A   \n",
      "1  1035844100844930  2022-12-29  2023-01-11           60         Part A   \n",
      "2  1035844100844940  2023-01-05  2023-01-09           60         Part A   \n",
      "3  1035902100902160  2023-01-08  2023-01-11           60         Part A   \n",
      "4  1036788100788080  2023-01-05  2023-01-08           60         Part A   \n",
      "\n",
      "   CLM_LINE_DGNS_CD BETOS_Code_Description Procedure_Description  \\\n",
      "0               NaN                Unknown               Unknown   \n",
      "1               NaN                Unknown               Unknown   \n",
      "2               NaN                Unknown               Unknown   \n",
      "3               NaN                Unknown               Unknown   \n",
      "4               NaN                Unknown               Unknown   \n",
      "\n",
      "            Claim_Type_w_ED  Facility_Provider_NPI_Number  facility_ZIP  \\\n",
      "0  Medicare Inpatient Claim                    1407828429         53010   \n",
      "1  Medicare Inpatient Claim                    1508851288         73402   \n",
      "2  Medicare Inpatient Claim                    1508851288         73402   \n",
      "3  Medicare Inpatient Claim                    1417089350         54105   \n",
      "4  Medicare Inpatient Claim                    1295181477         93108   \n",
      "\n",
      "   Pcp_ZIP PCP_State  Claim_Based_Expenditure          mbi      pcp_npi  \\\n",
      "0    22802        CA             45979.710000  CUYQJP9HC7P  19642251919   \n",
      "1    63919        CA             27141.030469  Q9WQ7A9WAAD  10356997810   \n",
      "2    79268        CA              9272.370000  8PPW96EUUJR  15206291645   \n",
      "3    41709        CA             13021.730000  Y6KN96AW7ET  16495189516   \n",
      "4    34457        CA              7002.660000  K6JUU8KGTJF  15752150161   \n",
      "\n",
      "  eligibility start eligibility end  \n",
      "0        2023-01-01      2023-12-31  \n",
      "1        2023-01-01      2023-06-30  \n",
      "2        2023-01-01      2023-12-31  \n",
      "3        2023-01-01      2023-10-31  \n",
      "4        2023-01-01      2023-07-31  \n"
     ]
    }
   ],
   "source": [
    "import pandas as pd\n",
    "\n",
    "file_path = r\"C:\\Users\\rruiz\\Desktop\\claims.xlsx\"\n",
    "\n",
    "claims = pd.read_excel(file_path)\n",
    "\n",
    "print(claims.head())"
   ]
  },
  {
   "cell_type": "markdown",
   "id": "7a4df741",
   "metadata": {},
   "source": [
    "In Excel,\n",
    "\n",
    "- Excluded members with only one claim (never discharged or readmitted)\n",
    "- Eliminated claims from members not on the eligible list\n",
    "- Excluded claims outside the member's eligibility period"
   ]
  },
  {
   "cell_type": "markdown",
   "id": "4023ad88",
   "metadata": {},
   "source": [
    "# Question 1:\n",
    "What's the 30-day readmission rate for patients who were discharged to a SNF in 2023? (Define discharge to a SNF as any SNF stay that begins 3 or fewer days after a discharge.)\n",
    "\n",
    "\n",
    "- Discharged patient: A patient who starts a SNF claim within 3 days after the end date of an inpatient claim\n",
    "\n",
    "- Readmitted patient: A patient who starts an inpatient claim 30 days after the end date of a SNF claim"
   ]
  },
  {
   "cell_type": "code",
   "execution_count": 2,
   "id": "0ceb9c3c",
   "metadata": {},
   "outputs": [
    {
     "name": "stdout",
     "output_type": "stream",
     "text": [
      "Discharged patients: 452\n"
     ]
    }
   ],
   "source": [
    "# Count discharged patients\n",
    "\n",
    "# SNF claims condition\n",
    "snf_claims_condition = (claims['Claim_Type_w_ED'] == 'Medicare Non-Swing Bed Skilled Nursing Facility (SNF) Claim')\n",
    "\n",
    "# Inpatient claims condition\n",
    "inpatient_claims_condition = (claims['Claim_Type_w_ED'] == 'Medicare Inpatient Claim')\n",
    "\n",
    "# Extract SNF claims and inpatient claims\n",
    "snf_claims = claims.loc[snf_claims_condition, ['mbi', 'CLM_FROM_DT']]\n",
    "inpatient_claims = claims.loc[inpatient_claims_condition, ['mbi', 'CLM_THRU_DT']]\n",
    "\n",
    "# Merge SNF and inpatient claims on 'mbi'\n",
    "merged_claims = pd.merge(snf_claims, inpatient_claims, on='mbi', how='inner')\n",
    "\n",
    "# Calculate the time difference between SNF claim start date and inpatient claim end date\n",
    "merged_claims['time_diff'] = (pd.to_datetime(merged_claims['CLM_FROM_DT']) - pd.to_datetime(merged_claims['CLM_THRU_DT'])).dt.days\n",
    "\n",
    "# Filter for cases where the time difference is 3 days or less\n",
    "filtered_claims = merged_claims[merged_claims['time_diff'] <= 3]\n",
    "\n",
    "# Count the number of distinct patients with SNF claims following inpatient claims by 3 days or less\n",
    "discharged_patients = filtered_claims['mbi'].nunique()\n",
    "\n",
    "print(f\"Discharged patients: {discharged_patients}\")\n"
   ]
  },
  {
   "cell_type": "code",
   "execution_count": 3,
   "id": "5a8020f6",
   "metadata": {},
   "outputs": [
    {
     "name": "stdout",
     "output_type": "stream",
     "text": [
      "Readmitted patients: 10\n"
     ]
    }
   ],
   "source": [
    "# Count readmitted patients\n",
    "\n",
    "# Calculate the time difference between SNF claim end date and inpatient claim start date\n",
    "merged_claims['time_diff'] = (pd.to_datetime(merged_claims['CLM_THRU_DT']) - pd.to_datetime(merged_claims['CLM_FROM_DT'])).dt.days\n",
    "\n",
    "# Filter for cases where the time difference is 30 days\n",
    "filtered_claims = merged_claims[merged_claims['time_diff'] == 30]\n",
    "\n",
    "# Count the number of distinct members with inpatient claims starting 30 days after SNF claims end\n",
    "readmitted_patients = filtered_claims['mbi'].nunique()\n",
    "\n",
    "print(f\"Readmitted patients: {readmitted_patients}\")\n"
   ]
  },
  {
   "cell_type": "code",
   "execution_count": 4,
   "id": "e20e8e35",
   "metadata": {},
   "outputs": [
    {
     "name": "stdout",
     "output_type": "stream",
     "text": [
      "Readmission rate: 2.21%\n"
     ]
    }
   ],
   "source": [
    "## Calculate readmission rate\n",
    "\n",
    "readmission_rate = round(readmitted_patients / discharged_patients * 100, 2)\n",
    "print(f\"Readmission rate: {readmission_rate}%\")\n"
   ]
  },
  {
   "cell_type": "markdown",
   "id": "a87c8f33",
   "metadata": {},
   "source": [
    "# Question 2\n",
    "What's the average length of stay at SNFs for patients who were discharged from a SNF in 2023? \n",
    "\n",
    "\n",
    "- Calculate the average duration between the start and end dates of SNF claims for discharged patients."
   ]
  },
  {
   "cell_type": "code",
   "execution_count": null,
   "id": "402bb64f",
   "metadata": {},
   "outputs": [],
   "source": [
    "# SNF claims condition\n",
    "snf_claims_condition = (claims['Claim_Type_w_ED'] == 'Medicare Non-Swing Bed Skilled Nursing Facility (SNF) Claim')\n",
    "\n",
    "# Inpatient claims condition\n",
    "inpatient_claims_condition = (claims['Claim_Type_w_ED'] == 'Medicare Inpatient Claim')\n",
    "\n",
    "# Extract SNF claims and inpatient claims\n",
    "snf_claims = claims.loc[snf_claims_condition, ['mbi', 'CLM_FROM_DT', 'CLM_THRU_DT']]\n",
    "inpatient_claims = claims.loc[inpatient_claims_condition, ['mbi', 'CLM_THRU_DT']]\n",
    "\n",
    "# Merge SNF and inpatient claims on 'mbi'\n",
    "merged_claims = pd.merge(snf_claims, inpatient_claims, on='mbi', how='inner')\n",
    "\n",
    "# Calculate the time difference between SNF claim start date and inpatient claim end date\n",
    "merged_claims['time_diff'] = (pd.to_datetime(merged_claims['CLM_FROM_DT']) - pd.to_datetime(merged_claims['CLM_THRU_DT_y'])).dt.days\n",
    "\n",
    "# Filter for cases where the time difference is 3 days or less\n",
    "filtered_claims = merged_claims[merged_claims['time_diff'] <= 3]\n",
    "\n",
    "# Calculate the length of SNF claims\n",
    "filtered_claims['snf_claim_length'] = (pd.to_datetime(filtered_claims['CLM_THRU_DT_x']) - pd.to_datetime(filtered_claims['CLM_FROM_DT'])).dt.days\n",
    "\n",
    "# Calculate the average length of SNF claims\n",
    "avg_snf_claim_length = filtered_claims['snf_claim_length'].mean()\n"
   ]
  },
  {
   "cell_type": "code",
   "execution_count": 6,
   "id": "b494c541",
   "metadata": {},
   "outputs": [
    {
     "name": "stdout",
     "output_type": "stream",
     "text": [
      "Average Length of Stay in SNF: 17.35 days\n"
     ]
    }
   ],
   "source": [
    "print(f\"Average Length of Stay in SNF: {avg_snf_claim_length:.2f} days\")"
   ]
  },
  {
   "cell_type": "markdown",
   "id": "31de6f75",
   "metadata": {},
   "source": [
    "# Question 3\n",
    "Make a visualization looking at inpatient admissions trends for our providers in 2023.\n",
    "\n",
    "- Visualize readmissions from top providers"
   ]
  },
  {
   "cell_type": "code",
   "execution_count": 7,
   "id": "2a15f5e7",
   "metadata": {
    "scrolled": true
   },
   "outputs": [
    {
     "data": {
      "image/png": "[encoded data removed]",
      "text/plain": [
       "<Figure size 1000x600 with 1 Axes>"
      ]
     },
     "metadata": {},
     "output_type": "display_data"
    }
   ],
   "source": [
    "import matplotlib.pyplot as plt\n",
    "\n",
    "# SNF claims condition\n",
    "snf_claims_condition = (claims['Claim_Type_w_ED'] == 'Medicare Non-Swing Bed Skilled Nursing Facility (SNF) Claim')\n",
    "\n",
    "# Inpatient claims condition\n",
    "inpatient_claims_condition = (claims['Claim_Type_w_ED'] == 'Medicare Inpatient Claim')\n",
    "\n",
    "# Extract SNF claims and inpatient claims\n",
    "snf_claims = claims.loc[snf_claims_condition, ['mbi', 'CLM_FROM_DT', 'CLM_THRU_DT', 'pcp_npi']]\n",
    "inpatient_claims = claims.loc[inpatient_claims_condition, ['mbi', 'CLM_THRU_DT', 'pcp_npi']]\n",
    "\n",
    "# Merge SNF and inpatient claims on 'mbi'\n",
    "merged_claims = pd.merge(snf_claims, inpatient_claims, on=['mbi', 'pcp_npi'], how='inner')\n",
    "\n",
    "# Calculate the time difference between SNF claim start date and inpatient claim end date\n",
    "merged_claims['time_diff'] = (pd.to_datetime(merged_claims['CLM_FROM_DT']) - pd.to_datetime(merged_claims['CLM_THRU_DT_y'])).dt.days\n",
    "\n",
    "# Filter for cases where the time difference is 3 days or less\n",
    "filtered_claims = merged_claims[merged_claims['time_diff'] <= 3]\n",
    "\n",
    "# Count the number of discharged patients per provider\n",
    "discharged_per_provider = filtered_claims.groupby('pcp_npi')['mbi'].nunique()\n",
    "\n",
    "# Filter for cases where the time difference is 30 days\n",
    "readmitted_claims = merged_claims[merged_claims['time_diff'] == 30]\n",
    "\n",
    "# Count the number of distinct members with inpatient claims starting 30 days after SNF claims end\n",
    "readmitted_per_provider = readmitted_claims.groupby('pcp_npi')['mbi'].nunique()\n",
    "\n",
    "# Get the top 20 providers\n",
    "top_20_providers_discharged = discharged_per_provider.nlargest(20)\n",
    "top_20_providers_readmitted = readmitted_per_provider.reindex(top_20_providers_discharged.index, fill_value=0)\n",
    "\n",
    "# Plot the bar chart with rotated x-axis labels\n",
    "fig, ax = plt.subplots(figsize=(10, 6))\n",
    "top_20_providers_discharged.plot(kind='bar', ax=ax, color='blue', label='Discharged')\n",
    "top_20_providers_readmitted.plot(kind='bar', ax=ax, color='orange', label='Readmitted')\n",
    "plt.title('Top 20 Providers')\n",
    "plt.xlabel('Provider NPI')\n",
    "plt.ylabel('Patients')\n",
    "plt.legend()\n",
    "plt.show()\n"
   ]
  }
 ],
 "metadata": {
  "kernelspec": {
   "display_name": "Python 3 (ipykernel)",
   "language": "python",
   "name": "python3"
  },
  "language_info": {
   "codemirror_mode": {
    "name": "ipython",
    "version": 3
   },
   "file_extension": ".py",
   "mimetype": "text/x-python",
   "name": "python",
   "nbconvert_exporter": "python",
   "pygments_lexer": "ipython3",
   "version": "3.11.3"
  }
 },
 "nbformat": 4,
 "nbformat_minor": 5
}
